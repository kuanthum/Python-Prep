{
 "cells": [
  {
   "cell_type": "code",
   "execution_count": 2,
   "metadata": {},
   "outputs": [
    {
     "name": "stdout",
     "output_type": "stream",
     "text": [
      "['San Luis', 'Amsterdam', 'Paris', 'Barcelona', 'Pripyat', 'Chernobyl']\n"
     ]
    }
   ],
   "source": [
    "#1\n",
    "cities = [\n",
    "    \"San Luis\",\n",
    "    \"Amsterdam\",\n",
    "    \"Paris\",\n",
    "    \"Barcelona\",\n",
    "    \"Pripyat\",\n",
    "    \"Chernobyl\"\n",
    "]\n",
    "print(cities)"
   ]
  },
  {
   "cell_type": "code",
   "execution_count": 3,
   "metadata": {},
   "outputs": [
    {
     "name": "stdout",
     "output_type": "stream",
     "text": [
      "Amsterdam\n"
     ]
    }
   ],
   "source": [
    "#2\n",
    "print(cities[1])"
   ]
  },
  {
   "cell_type": "code",
   "execution_count": 6,
   "metadata": {},
   "outputs": [
    {
     "name": "stdout",
     "output_type": "stream",
     "text": [
      "['Amsterdam', 'Paris', 'Barcelona']\n"
     ]
    }
   ],
   "source": [
    "#3\n",
    "print(cities[1:4])"
   ]
  },
  {
   "cell_type": "code",
   "execution_count": 7,
   "metadata": {},
   "outputs": [
    {
     "name": "stdout",
     "output_type": "stream",
     "text": [
      "<class 'list'>\n"
     ]
    }
   ],
   "source": [
    "#4\n",
    "print(type(cities))"
   ]
  },
  {
   "cell_type": "code",
   "execution_count": 8,
   "metadata": {},
   "outputs": [
    {
     "name": "stdout",
     "output_type": "stream",
     "text": [
      "['Paris', 'Barcelona', 'Pripyat', 'Chernobyl']\n"
     ]
    }
   ],
   "source": [
    "#5\n",
    "print(cities[2:])"
   ]
  },
  {
   "cell_type": "code",
   "execution_count": 9,
   "metadata": {},
   "outputs": [
    {
     "name": "stdout",
     "output_type": "stream",
     "text": [
      "['San Luis', 'Amsterdam', 'Paris', 'Barcelona']\n"
     ]
    }
   ],
   "source": [
    "#6\n",
    "print(cities[:4])"
   ]
  },
  {
   "cell_type": "code",
   "execution_count": 11,
   "metadata": {},
   "outputs": [],
   "source": [
    "#7\n",
    "cities.append(\"San Luis\")\n",
    "cities.append(\"New York\")"
   ]
  },
  {
   "cell_type": "code",
   "execution_count": 13,
   "metadata": {},
   "outputs": [
    {
     "name": "stdout",
     "output_type": "stream",
     "text": [
      "['San Luis', 'Amsterdam', 'Paris', 'Barcelona', 'Buenos Aires', 'Pripyat', 'Chernobyl', 'San Luis', 'New York']\n",
      "['San Luis', 'Amsterdam', 'Paris', 'Buenos Aires', 'Barcelona', 'Buenos Aires', 'Pripyat', 'Chernobyl', 'San Luis', 'New York']\n"
     ]
    }
   ],
   "source": [
    "#8\n",
    "print(cities)\n",
    "cities.insert(3, \"Buenos Aires\")\n",
    "print(cities)"
   ]
  },
  {
   "cell_type": "code",
   "execution_count": 14,
   "metadata": {},
   "outputs": [
    {
     "name": "stdout",
     "output_type": "stream",
     "text": [
      "['Piedra Bola', 'Jarilla', 'Trapiche', 'San Luis', 'Amsterdam', 'Paris', 'Buenos Aires', 'Barcelona', 'Buenos Aires', 'Pripyat', 'Chernobyl', 'San Luis', 'New York']\n"
     ]
    }
   ],
   "source": [
    "#9\n",
    "new_cities = [\n",
    "    \"Piedra Bola\",\n",
    "    \"Jarilla\",\n",
    "    \"Trapiche\"\n",
    "]\n",
    "\n",
    "all_cities = new_cities + cities\n",
    "#es lo mismo que cities.extend(new_cities)\n",
    "print(all_cities)\n"
   ]
  },
  {
   "cell_type": "code",
   "execution_count": 17,
   "metadata": {},
   "outputs": [
    {
     "name": "stdout",
     "output_type": "stream",
     "text": [
      "3\n"
     ]
    }
   ],
   "source": [
    "#10\n",
    "print(all_cities.index(\"San Luis\"))\n",
    "#solo muestra el primero"
   ]
  },
  {
   "cell_type": "code",
   "execution_count": 18,
   "metadata": {},
   "outputs": [
    {
     "ename": "ValueError",
     "evalue": "'Mendoza' is not in list",
     "output_type": "error",
     "traceback": [
      "\u001b[1;31m---------------------------------------------------------------------------\u001b[0m",
      "\u001b[1;31mValueError\u001b[0m                                Traceback (most recent call last)",
      "\u001b[1;32mk:\\Python\\Mis programas\\Henry\\Python-Prep\\04 - Estructuras de datos\\agu_resuelto_04.ipynb Cell 11'\u001b[0m in \u001b[0;36m<cell line: 2>\u001b[1;34m()\u001b[0m\n\u001b[0;32m      <a href='vscode-notebook-cell:/k%3A/Python/Mis%20programas/Henry/Python-Prep/04%20-%20Estructuras%20de%20datos/agu_resuelto_04.ipynb#ch0000017?line=0'>1</a>\u001b[0m \u001b[39m#11\u001b[39;00m\n\u001b[1;32m----> <a href='vscode-notebook-cell:/k%3A/Python/Mis%20programas/Henry/Python-Prep/04%20-%20Estructuras%20de%20datos/agu_resuelto_04.ipynb#ch0000017?line=1'>2</a>\u001b[0m \u001b[39mprint\u001b[39m(all_cities\u001b[39m.\u001b[39;49mindex(\u001b[39m\"\u001b[39;49m\u001b[39mMendoza\u001b[39;49m\u001b[39m\"\u001b[39;49m))\n",
      "\u001b[1;31mValueError\u001b[0m: 'Mendoza' is not in list"
     ]
    }
   ],
   "source": [
    "#11\n",
    "print(all_cities.index(\"Mendoza\"))"
   ]
  },
  {
   "cell_type": "code",
   "execution_count": 19,
   "metadata": {},
   "outputs": [],
   "source": [
    "#12\n",
    "all_cities.remove(\"New York\")"
   ]
  },
  {
   "cell_type": "code",
   "execution_count": 20,
   "metadata": {},
   "outputs": [
    {
     "ename": "TypeError",
     "evalue": "'str' object cannot be interpreted as an integer",
     "output_type": "error",
     "traceback": [
      "\u001b[1;31m---------------------------------------------------------------------------\u001b[0m",
      "\u001b[1;31mTypeError\u001b[0m                                 Traceback (most recent call last)",
      "\u001b[1;32mk:\\Python\\Mis programas\\Henry\\Python-Prep\\04 - Estructuras de datos\\agu_resuelto_04.ipynb Cell 13'\u001b[0m in \u001b[0;36m<cell line: 1>\u001b[1;34m()\u001b[0m\n\u001b[1;32m----> <a href='vscode-notebook-cell:/k%3A/Python/Mis%20programas/Henry/Python-Prep/04%20-%20Estructuras%20de%20datos/agu_resuelto_04.ipynb#ch0000019?line=0'>1</a>\u001b[0m all_cities\u001b[39m.\u001b[39;49mpop(\u001b[39m\"\u001b[39;49m\u001b[39mBuenos Aires\u001b[39;49m\u001b[39m\"\u001b[39;49m)\n",
      "\u001b[1;31mTypeError\u001b[0m: 'str' object cannot be interpreted as an integer"
     ]
    }
   ],
   "source": [
    "all_cities.pop(\"Buenos Aires\")"
   ]
  },
  {
   "cell_type": "code",
   "execution_count": 21,
   "metadata": {},
   "outputs": [
    {
     "ename": "ValueError",
     "evalue": "list.remove(x): x not in list",
     "output_type": "error",
     "traceback": [
      "\u001b[1;31m---------------------------------------------------------------------------\u001b[0m",
      "\u001b[1;31mValueError\u001b[0m                                Traceback (most recent call last)",
      "\u001b[1;32mk:\\Python\\Mis programas\\Henry\\Python-Prep\\04 - Estructuras de datos\\agu_resuelto_04.ipynb Cell 14'\u001b[0m in \u001b[0;36m<cell line: 2>\u001b[1;34m()\u001b[0m\n\u001b[0;32m      <a href='vscode-notebook-cell:/k%3A/Python/Mis%20programas/Henry/Python-Prep/04%20-%20Estructuras%20de%20datos/agu_resuelto_04.ipynb#ch0000020?line=0'>1</a>\u001b[0m \u001b[39m#13\u001b[39;00m\n\u001b[1;32m----> <a href='vscode-notebook-cell:/k%3A/Python/Mis%20programas/Henry/Python-Prep/04%20-%20Estructuras%20de%20datos/agu_resuelto_04.ipynb#ch0000020?line=1'>2</a>\u001b[0m all_cities\u001b[39m.\u001b[39;49mremove(\u001b[39m\"\u001b[39;49m\u001b[39mViena\u001b[39;49m\u001b[39m\"\u001b[39;49m)\n",
      "\u001b[1;31mValueError\u001b[0m: list.remove(x): x not in list"
     ]
    }
   ],
   "source": [
    "#13\n",
    "all_cities.remove(\"Viena\")"
   ]
  },
  {
   "cell_type": "code",
   "execution_count": 24,
   "metadata": {},
   "outputs": [
    {
     "name": "stdout",
     "output_type": "stream",
     "text": [
      "['Piedra Bola', 'Jarilla', 'Trapiche', 'San Luis', 'Amsterdam', 'Paris', 'Buenos Aires', 'Barcelona', 'Buenos Aires', 'Pripyat', 'Chernobyl', 'San Luis']\n",
      "San Luis\n"
     ]
    }
   ],
   "source": [
    "#14\n",
    "print(all_cities)\n",
    "last_city = all_cities.pop()\n",
    "print(last_city)"
   ]
  },
  {
   "cell_type": "code",
   "execution_count": 25,
   "metadata": {},
   "outputs": [
    {
     "name": "stdout",
     "output_type": "stream",
     "text": [
      "['Piedra Bola', 'Jarilla', 'Trapiche', 'San Luis', 'Amsterdam', 'Paris', 'Buenos Aires', 'Barcelona', 'Buenos Aires', 'Pripyat', 'Chernobyl', 'Piedra Bola', 'Jarilla', 'Trapiche', 'San Luis', 'Amsterdam', 'Paris', 'Buenos Aires', 'Barcelona', 'Buenos Aires', 'Pripyat', 'Chernobyl', 'Piedra Bola', 'Jarilla', 'Trapiche', 'San Luis', 'Amsterdam', 'Paris', 'Buenos Aires', 'Barcelona', 'Buenos Aires', 'Pripyat', 'Chernobyl', 'Piedra Bola', 'Jarilla', 'Trapiche', 'San Luis', 'Amsterdam', 'Paris', 'Buenos Aires', 'Barcelona', 'Buenos Aires', 'Pripyat', 'Chernobyl']\n"
     ]
    }
   ],
   "source": [
    "#15\n",
    "print(all_cities*4)"
   ]
  },
  {
   "cell_type": "code",
   "execution_count": 26,
   "metadata": {},
   "outputs": [],
   "source": [
    "#16\n",
    "tup = (1,2,3,4,5,6,7,8,9,10,11,12,13,14,15,16,17,18,19,20)"
   ]
  },
  {
   "cell_type": "code",
   "execution_count": 27,
   "metadata": {},
   "outputs": [
    {
     "name": "stdout",
     "output_type": "stream",
     "text": [
      "(11, 12, 13, 14, 15)\n"
     ]
    }
   ],
   "source": [
    "#17\n",
    "print(tup[10:15])\n",
    "#imprimir hasta el 16"
   ]
  },
  {
   "cell_type": "code",
   "execution_count": 28,
   "metadata": {},
   "outputs": [
    {
     "name": "stdout",
     "output_type": "stream",
     "text": [
      "True\n",
      "False\n"
     ]
    }
   ],
   "source": [
    "#18\n",
    "print(20 in tup)\n",
    "print(30 in tup)\n"
   ]
  },
  {
   "cell_type": "code",
   "execution_count": 31,
   "metadata": {},
   "outputs": [
    {
     "name": "stdout",
     "output_type": "stream",
     "text": [
      "El elemento Paris ya existe\n"
     ]
    }
   ],
   "source": [
    "#19\n",
    "elemento = \"Paris\"\n",
    "if not elemento in cities:\n",
    "    cities.append(elemento)\n",
    "    print(\"Se agrego el elemento\", elemento)\n",
    "else:\n",
    "    print(\"El elemento\", elemento, \"ya existe\")"
   ]
  },
  {
   "cell_type": "code",
   "execution_count": 37,
   "metadata": {},
   "outputs": [
    {
     "name": "stdout",
     "output_type": "stream",
     "text": [
      "1\n",
      "1\n"
     ]
    }
   ],
   "source": [
    "#20\n",
    "print(tup.count(10))\n",
    "print(all_cities.count(\"San Luis\"))\n"
   ]
  },
  {
   "cell_type": "code",
   "execution_count": 38,
   "metadata": {},
   "outputs": [
    {
     "name": "stdout",
     "output_type": "stream",
     "text": [
      "[1, 2, 3, 4, 5, 6, 7, 8, 9, 10, 11, 12, 13, 14, 15, 16, 17, 18, 19, 20]\n"
     ]
    }
   ],
   "source": [
    "#21\n",
    "tup = list(tup)\n",
    "print(tup)"
   ]
  },
  {
   "cell_type": "code",
   "execution_count": 41,
   "metadata": {},
   "outputs": [
    {
     "name": "stdout",
     "output_type": "stream",
     "text": [
      "1 2 3\n"
     ]
    }
   ],
   "source": [
    "#22\n",
    "v1 = tup[0]\n",
    "v2 = tup[1]\n",
    "v3 = tup[2]\n",
    "\n",
    "print(v1,v2,v3)"
   ]
  },
  {
   "cell_type": "code",
   "execution_count": null,
   "metadata": {},
   "outputs": [],
   "source": [
    "v1, v2, v3, _, _, _, _, _, _, _, _, _, _, _, _, _, _, _, _, _ = tup\n",
    "print(v1)\n",
    "print(v2)\n",
    "print(v3)"
   ]
  },
  {
   "cell_type": "code",
   "execution_count": 42,
   "metadata": {},
   "outputs": [
    {
     "name": "stdout",
     "output_type": "stream",
     "text": [
      "{'Ciudad': ['Piedra Bola', 'Jarilla', 'Trapiche', 'San Luis', 'Amsterdam', 'Paris', 'Buenos Aires', 'Barcelona', 'Buenos Aires', 'Pripyat', 'Chernobyl'], 'Pais': ['Brasil', 'Lituania', 'Argentina', 'Armenia', 'Holanda', 'China'], 'Continente': ['America', 'Europa', 'America', 'Europa', 'Europoa', 'Asia']}\n"
     ]
    }
   ],
   "source": [
    "#23\n",
    "country = [\"Brasil\", \"Lituania\", \"Argentina\", \"Armenia\", \"Holanda\", \"China\"]\n",
    "continente = [\"America\", \"Europa\", \"America\", \"Europa\", \"Europoa\", \"Asia\"]\n",
    "\n",
    "diccionario = {\n",
    "    'Ciudad' : all_cities,\n",
    "    \"Pais\": country,\n",
    "    \"Continente\": continente\n",
    "    }\n",
    "\n",
    "print(diccionario)"
   ]
  },
  {
   "cell_type": "code",
   "execution_count": 43,
   "metadata": {},
   "outputs": [
    {
     "name": "stdout",
     "output_type": "stream",
     "text": [
      "dict_keys(['Ciudad', 'Pais', 'Continente'])\n"
     ]
    }
   ],
   "source": [
    "#24\n",
    "print(diccionario.keys())"
   ]
  },
  {
   "cell_type": "code",
   "execution_count": 45,
   "metadata": {},
   "outputs": [
    {
     "name": "stdout",
     "output_type": "stream",
     "text": [
      "['Piedra Bola', 'Jarilla', 'Trapiche', 'San Luis', 'Amsterdam', 'Paris', 'Buenos Aires', 'Barcelona', 'Buenos Aires', 'Pripyat', 'Chernobyl']\n"
     ]
    }
   ],
   "source": [
    "print(diccionario.get(\"Ciudad\"))"
   ]
  },
  {
   "cell_type": "code",
   "execution_count": null,
   "metadata": {},
   "outputs": [],
   "source": []
  }
 ],
 "metadata": {
  "interpreter": {
   "hash": "35ca4a963c16aca9b58beaeafd357f9a4de054dd363a8ae0a1932fd56bbeee66"
  },
  "kernelspec": {
   "display_name": "Python 3.10.2 64-bit",
   "language": "python",
   "name": "python3"
  },
  "language_info": {
   "codemirror_mode": {
    "name": "ipython",
    "version": 3
   },
   "file_extension": ".py",
   "mimetype": "text/x-python",
   "name": "python",
   "nbconvert_exporter": "python",
   "pygments_lexer": "ipython3",
   "version": "3.10.2"
  },
  "orig_nbformat": 4
 },
 "nbformat": 4,
 "nbformat_minor": 2
}
