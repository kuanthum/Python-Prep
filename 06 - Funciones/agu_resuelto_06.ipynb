{
 "cells": [
  {
   "cell_type": "code",
   "execution_count": 29,
   "metadata": {},
   "outputs": [
    {
     "name": "stdout",
     "output_type": "stream",
     "text": [
      "[89, 31, 44, 66, 71, 37, 73, 64, 28, 65, 11, 35, 13, 75, 25, 10, 36, 81, 50, 3]\n"
     ]
    }
   ],
   "source": [
    "import random\n",
    "\n",
    "random_list = random.sample(range(100), 20)\n",
    "print(random_list)\n"
   ]
  },
  {
   "cell_type": "code",
   "execution_count": 25,
   "metadata": {},
   "outputs": [
    {
     "name": "stdout",
     "output_type": "stream",
     "text": [
      "True\n"
     ]
    }
   ],
   "source": [
    "#1\n",
    "#para que sea primo debe cumplir\n",
    "# (n-1)! + 1 % n == 0\n",
    "\n",
    "def is_prime(num: int)-> bool:\n",
    "\n",
    "    n = num-1\n",
    "    fact = n\n",
    "    while n > 1:\n",
    "        fact = fact * (n-1)\n",
    "        n -= 1\n",
    "    \n",
    "    if (fact + 1) % num == 0:\n",
    "        return True\n",
    "    else:\n",
    "        return False\n",
    "\n",
    "print(is_prime(11))\n",
    "\n"
   ]
  },
  {
   "cell_type": "code",
   "execution_count": 23,
   "metadata": {},
   "outputs": [
    {
     "name": "stdout",
     "output_type": "stream",
     "text": [
      "[1, 2, 3, 5, 7, 11, 13]\n"
     ]
    }
   ],
   "source": [
    "#2\n",
    "x = [1,2,3,4,5,6,7,8,9,10,11,12,13,14,15]\n",
    "\n",
    "def prime_list(x: list)->list:\n",
    "    z = []\n",
    "    for i in x:\n",
    "        if is_prime(i) == True:\n",
    "            z.append(i)\n",
    "    return z\n",
    "\n",
    "print(prime_list(x))"
   ]
  },
  {
   "cell_type": "code",
   "execution_count": 49,
   "metadata": {},
   "outputs": [
    {
     "data": {
      "text/plain": [
       "'El numero mas repetido es 89, y se repite 3 veces'"
      ]
     },
     "execution_count": 49,
     "metadata": {},
     "output_type": "execute_result"
    }
   ],
   "source": [
    "#3\n",
    "lista = [89, 31, 44, 66, 71, 37, 73, 89, 64, 28, 65, 11, 35, 13, 75, 25, 89, 25, 25, 37]\n",
    "\n",
    "def repeated(x:list):\n",
    "\n",
    "    repetidos = []\n",
    "    qty = 1\n",
    "\n",
    "    for i in x:\n",
    "        q = x.count(i)\n",
    "        if q >= qty:\n",
    "            repetidos.append(i)\n",
    "            qty = q\n",
    "\n",
    "    result = (f\"El numero mas repetido es {repetidos[0]}, y se repite {qty} veces\")\n",
    "\n",
    "    return(result)\n",
    "\n",
    "repeated(lista)"
   ]
  },
  {
   "cell_type": "code",
   "execution_count": 55,
   "metadata": {},
   "outputs": [
    {
     "data": {
      "text/plain": [
       "25"
      ]
     },
     "execution_count": 55,
     "metadata": {},
     "output_type": "execute_result"
    }
   ],
   "source": [
    "#4\n",
    "lista = [89, 31, 44, 66, 71, 37, 73, 89, 64, 28, 65, 11, 35, 13, 75, 25, 89, 25, 25, 37]\n",
    "\n",
    "def repeated(x: list, min_or_max: str):\n",
    "\n",
    "    mode = min_or_max\n",
    "    repetidos = []\n",
    "    qty = 1\n",
    "\n",
    "    for i in x:\n",
    "        q = x.count(i)\n",
    "        if q >= qty:\n",
    "            repetidos.append(i)\n",
    "            qty = q\n",
    "\n",
    "    repetidos.sort()\n",
    "    if mode == \"max\":\n",
    "        return repetidos[-1]\n",
    "    elif mode == \"min\":\n",
    "        return repetidos[0]\n",
    "\n",
    "repeated(lista,\"min\")"
   ]
  },
  {
   "cell_type": "code",
   "execution_count": 88,
   "metadata": {},
   "outputs": [
    {
     "data": {
      "text/plain": [
       "1"
      ]
     },
     "execution_count": 88,
     "metadata": {},
     "output_type": "execute_result"
    }
   ],
   "source": [
    "#5\n",
    "value = 1\n",
    "_from = \"Celsius\"\n",
    "to = \"Celsius\"\n",
    "\n",
    "def deg_convert(value: float, _from: str, to: str):\n",
    "\n",
    "    if _from == to:\n",
    "        to_value = value\n",
    "        return to_value\n",
    "\n",
    "    if _from == \"Celsius\":\n",
    "        if to == \"Farenheit\":\n",
    "            to_value = (value*(9/5)+32)\n",
    "        else:\n",
    "            to_value = (value + 273.15)\n",
    "    elif _from == \"Farenheit\":\n",
    "        if to == \"Celsius\":\n",
    "            to_value = (value-32)/(9/5)\n",
    "        else:\n",
    "            to_value = ((value-32)/(9/5))+273.15\n",
    "    elif _from == \"Kelvin\":\n",
    "        if to == \"Celsius\":\n",
    "            to_value = (value - 273.15)\n",
    "        else:\n",
    "            to_value = (value - 273.15)*(9/5)+32\n",
    "    else:\n",
    "        to_value = \"Algo salio mal\"\n",
    "    \n",
    "    return to_value\n",
    "\n",
    "deg_convert(value,_from,to)"
   ]
  },
  {
   "cell_type": "code",
   "execution_count": 79,
   "metadata": {},
   "outputs": [
    {
     "name": "stdout",
     "output_type": "stream",
     "text": [
      "1 grados Celsius equivale a: \n",
      "    1 grados Celsius\n",
      "    33.8 grados Farenheit\n",
      "    274.15 grados Kelvin\n",
      "1 grados Farenheit equivale a: \n",
      "    -17.22 grados Celsius\n",
      "    1 grados Farenheit\n",
      "    255.93 grados Kelvin\n",
      "1 grados Kelvin equivale a: \n",
      "    -272.15 grados Celsius\n",
      "    -457.87 grados Farenheit\n",
      "    1 grados Kelvin\n"
     ]
    }
   ],
   "source": [
    "#6\n",
    "scale = [\"Celsius\", \"Farenheit\",\"Kelvin\"]\n",
    "temp = 1\n",
    "\n",
    "for i in scale:\n",
    "    print(f\"{temp} grados {i} equivale a: \")\n",
    "    for j in scale:\n",
    "        x = (deg_convert(temp,i,j))\n",
    "        print(f\"    {round(x, 2)} grados {j}\")\n"
   ]
  },
  {
   "cell_type": "code",
   "execution_count": 87,
   "metadata": {},
   "outputs": [
    {
     "data": {
      "text/plain": [
       "120"
      ]
     },
     "execution_count": 87,
     "metadata": {},
     "output_type": "execute_result"
    }
   ],
   "source": [
    "#7\n",
    "def factorial(num):\n",
    "\n",
    "    if type(num) != int or num < 0:\n",
    "        print(\"El numero no es entero o es negativo\")\n",
    "    else:\n",
    "        fact = num\n",
    "        while num > 1:\n",
    "            fact = fact*(num-1)\n",
    "            num -= 1\n",
    "        return fact  \n",
    "\n",
    "factorial(5)"
   ]
  }
 ],
 "metadata": {
  "interpreter": {
   "hash": "35ca4a963c16aca9b58beaeafd357f9a4de054dd363a8ae0a1932fd56bbeee66"
  },
  "kernelspec": {
   "display_name": "Python 3.10.2 64-bit",
   "language": "python",
   "name": "python3"
  },
  "language_info": {
   "codemirror_mode": {
    "name": "ipython",
    "version": 3
   },
   "file_extension": ".py",
   "mimetype": "text/x-python",
   "name": "python",
   "nbconvert_exporter": "python",
   "pygments_lexer": "ipython3",
   "version": "3.10.2"
  },
  "orig_nbformat": 4
 },
 "nbformat": 4,
 "nbformat_minor": 2
}
