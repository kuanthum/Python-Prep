{
 "cells": [
  {
   "cell_type": "code",
   "execution_count": 3,
   "metadata": {},
   "outputs": [
    {
     "name": "stdout",
     "output_type": "stream",
     "text": [
      "el valor es mayor que 0\n"
     ]
    }
   ],
   "source": [
    "#1\n",
    "var = 5\n",
    "\n",
    "if var < 0:\n",
    "    print(\"el valor es menor que 0\")\n",
    "elif var > 0:\n",
    "    print(\"el valor es mayor que 0\")\n",
    "else:\n",
    "    print(\"el valor es igual a 0\")\n",
    "    "
   ]
  },
  {
   "cell_type": "code",
   "execution_count": 5,
   "metadata": {},
   "outputs": [
    {
     "name": "stdout",
     "output_type": "stream",
     "text": [
      "las variables son de diferente tipo\n"
     ]
    }
   ],
   "source": [
    "#2\n",
    "var1 = \"coso\"\n",
    "var2 = 2.56\n",
    "\n",
    "if type(var1) == type(var2):\n",
    "    print(\"las variables son del mismo tipo\")\n",
    "else:\n",
    "    print(\"las variables son de diferente tipo\")"
   ]
  },
  {
   "cell_type": "code",
   "execution_count": 8,
   "metadata": {},
   "outputs": [
    {
     "name": "stdout",
     "output_type": "stream",
     "text": [
      "El numero 1 es impar\n",
      "El numero 2 es par\n",
      "El numero 3 es impar\n",
      "El numero 4 es par\n",
      "El numero 5 es impar\n",
      "El numero 6 es par\n",
      "El numero 7 es impar\n",
      "El numero 8 es par\n",
      "El numero 9 es impar\n",
      "El numero 10 es par\n",
      "El numero 11 es impar\n",
      "El numero 12 es par\n",
      "El numero 13 es impar\n",
      "El numero 14 es par\n",
      "El numero 15 es impar\n",
      "El numero 16 es par\n",
      "El numero 17 es impar\n",
      "El numero 18 es par\n",
      "El numero 19 es impar\n",
      "El numero 20 es par\n"
     ]
    }
   ],
   "source": [
    "#3\n",
    "for i in range(1,21):\n",
    "    if i % 2 == 0:\n",
    "        print(f\"El numero {i} es par\")\n",
    "    else:\n",
    "        print(f\"El numero {i} es impar\")"
   ]
  },
  {
   "cell_type": "code",
   "execution_count": 9,
   "metadata": {},
   "outputs": [
    {
     "name": "stdout",
     "output_type": "stream",
     "text": [
      "0 elevado a la 3ra potencia es igual a 0\n",
      "1 elevado a la 3ra potencia es igual a 1\n",
      "2 elevado a la 3ra potencia es igual a 8\n",
      "3 elevado a la 3ra potencia es igual a 27\n",
      "4 elevado a la 3ra potencia es igual a 64\n",
      "5 elevado a la 3ra potencia es igual a 125\n"
     ]
    }
   ],
   "source": [
    "#4\n",
    "for i in range(0,6):\n",
    "    print(f\"{i} elevado a la 3ra potencia es igual a {i**3}\")"
   ]
  },
  {
   "cell_type": "markdown",
   "metadata": {},
   "source": []
  },
  {
   "cell_type": "code",
   "execution_count": null,
   "metadata": {},
   "outputs": [],
   "source": []
  },
  {
   "cell_type": "code",
   "execution_count": 12,
   "metadata": {},
   "outputs": [
    {
     "name": "stdout",
     "output_type": "stream",
     "text": [
      "5\n",
      "5\n",
      "5\n",
      "5\n",
      "5\n"
     ]
    }
   ],
   "source": [
    "#5\n",
    "var = 5\n",
    "for i in range(0, var):\n",
    "    print(var)"
   ]
  },
  {
   "cell_type": "code",
   "execution_count": 14,
   "metadata": {},
   "outputs": [
    {
     "name": "stdout",
     "output_type": "stream",
     "text": [
      "120\n"
     ]
    }
   ],
   "source": [
    "#6\n",
    "num = 5\n",
    "\n",
    "if type(num) == int:\n",
    "    if num > 0:\n",
    "        fact = 1\n",
    "        while num >= 1:\n",
    "            fact = fact*num\n",
    "            num -= 1\n",
    "        print(fact)\n",
    "    else:\n",
    "        print(\"el numero es menor o igual a 0\")\n",
    "else:\n",
    "    print(\"el tipo de dato no es entero\")"
   ]
  },
  {
   "cell_type": "code",
   "execution_count": 18,
   "metadata": {},
   "outputs": [
    {
     "name": "stdout",
     "output_type": "stream",
     "text": [
      "1\n",
      "2\n",
      "3\n",
      "4\n",
      "5\n"
     ]
    }
   ],
   "source": [
    "#7\n",
    "numbers = [1,2,3,4,5]\n",
    "i = 0\n",
    "while i != len(numbers):\n",
    "    for j in numbers:\n",
    "        i += 1\n",
    "        print(i)\n"
   ]
  },
  {
   "cell_type": "code",
   "execution_count": 19,
   "metadata": {},
   "outputs": [
    {
     "name": "stdout",
     "output_type": "stream",
     "text": [
      "1\n",
      "2\n",
      "3\n",
      "4\n",
      "2\n",
      "3\n",
      "4\n",
      "3\n",
      "4\n",
      "4\n"
     ]
    }
   ],
   "source": [
    "#8\n",
    "numbers = [1,2,3,4,5]\n",
    "\n",
    "for i in numbers:\n",
    "    while i != len(numbers):\n",
    "        print(i)\n",
    "        i += 1"
   ]
  },
  {
   "cell_type": "code",
   "execution_count": 20,
   "metadata": {},
   "outputs": [
    {
     "name": "stdout",
     "output_type": "stream",
     "text": [
      "0\n"
     ]
    },
    {
     "ename": "KeyboardInterrupt",
     "evalue": "",
     "output_type": "error",
     "traceback": [
      "\u001b[1;31m---------------------------------------------------------------------------\u001b[0m",
      "\u001b[1;31mKeyboardInterrupt\u001b[0m                         Traceback (most recent call last)",
      "\u001b[1;32mk:\\Python\\Mis programas\\Henry\\Python-Prep\\03 - Flujos de Control\\agu_resuelto_03.ipynb Cell 11'\u001b[0m in \u001b[0;36m<cell line: 6>\u001b[1;34m()\u001b[0m\n\u001b[0;32m     <a href='vscode-notebook-cell:/k%3A/Python/Mis%20programas/Henry/Python-Prep/03%20-%20Flujos%20de%20Control/agu_resuelto_03.ipynb#ch0000013?line=9'>10</a>\u001b[0m     \u001b[39mprint\u001b[39m(n)\n\u001b[0;32m     <a href='vscode-notebook-cell:/k%3A/Python/Mis%20programas/Henry/Python-Prep/03%20-%20Flujos%20de%20Control/agu_resuelto_03.ipynb#ch0000013?line=10'>11</a>\u001b[0m \u001b[39melse\u001b[39;00m:\n\u001b[1;32m---> <a href='vscode-notebook-cell:/k%3A/Python/Mis%20programas/Henry/Python-Prep/03%20-%20Flujos%20de%20Control/agu_resuelto_03.ipynb#ch0000013?line=11'>12</a>\u001b[0m     \u001b[39mcontinue\u001b[39;00m\n\u001b[0;32m     <a href='vscode-notebook-cell:/k%3A/Python/Mis%20programas/Henry/Python-Prep/03%20-%20Flujos%20de%20Control/agu_resuelto_03.ipynb#ch0000013?line=12'>13</a>\u001b[0m n \u001b[39m+\u001b[39m\u001b[39m=\u001b[39m \u001b[39m1\u001b[39m\n",
      "\u001b[1;31mKeyboardInterrupt\u001b[0m: "
     ]
    }
   ],
   "source": [
    "#9\n",
    "k = 30\n",
    "n = 0\n",
    "prime = False\n",
    "\n",
    "while n < k:\n",
    "    for i in range(2, k):\n",
    "        if n % i == 0:\n",
    "            primo = True\n",
    "            print(n)\n",
    "        else:\n",
    "            continue\n",
    "        n += 1\n"
   ]
  },
  {
   "cell_type": "code",
   "execution_count": null,
   "metadata": {},
   "outputs": [],
   "source": []
  },
  {
   "cell_type": "code",
   "execution_count": null,
   "metadata": {},
   "outputs": [],
   "source": []
  },
  {
   "cell_type": "code",
   "execution_count": null,
   "metadata": {},
   "outputs": [],
   "source": []
  },
  {
   "cell_type": "code",
   "execution_count": null,
   "metadata": {},
   "outputs": [],
   "source": []
  },
  {
   "cell_type": "code",
   "execution_count": null,
   "metadata": {},
   "outputs": [],
   "source": []
  }
 ],
 "metadata": {
  "interpreter": {
   "hash": "35ca4a963c16aca9b58beaeafd357f9a4de054dd363a8ae0a1932fd56bbeee66"
  },
  "kernelspec": {
   "display_name": "Python 3.10.2 64-bit",
   "language": "python",
   "name": "python3"
  },
  "language_info": {
   "codemirror_mode": {
    "name": "ipython",
    "version": 3
   },
   "file_extension": ".py",
   "mimetype": "text/x-python",
   "name": "python",
   "nbconvert_exporter": "python",
   "pygments_lexer": "ipython3",
   "version": "3.10.2"
  },
  "orig_nbformat": 4
 },
 "nbformat": 4,
 "nbformat_minor": 2
}
