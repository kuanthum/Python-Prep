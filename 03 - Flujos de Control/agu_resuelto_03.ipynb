{
 "cells": [
  {
   "cell_type": "code",
   "execution_count": 3,
   "metadata": {},
   "outputs": [
    {
     "name": "stdout",
     "output_type": "stream",
     "text": [
      "el valor es mayor que 0\n"
     ]
    }
   ],
   "source": [
    "#1\n",
    "var = 5\n",
    "\n",
    "if var < 0:\n",
    "    print(\"el valor es menor que 0\")\n",
    "elif var > 0:\n",
    "    print(\"el valor es mayor que 0\")\n",
    "else:\n",
    "    print(\"el valor es igual a 0\")\n",
    "    "
   ]
  },
  {
   "cell_type": "code",
   "execution_count": 5,
   "metadata": {},
   "outputs": [
    {
     "name": "stdout",
     "output_type": "stream",
     "text": [
      "las variables son de diferente tipo\n"
     ]
    }
   ],
   "source": [
    "#2\n",
    "var1 = \"coso\"\n",
    "var2 = 2.56\n",
    "\n",
    "if type(var1) == type(var2):\n",
    "    print(\"las variables son del mismo tipo\")\n",
    "else:\n",
    "    print(\"las variables son de diferente tipo\")"
   ]
  },
  {
   "cell_type": "code",
   "execution_count": 8,
   "metadata": {},
   "outputs": [
    {
     "name": "stdout",
     "output_type": "stream",
     "text": [
      "El numero 1 es impar\n",
      "El numero 2 es par\n",
      "El numero 3 es impar\n",
      "El numero 4 es par\n",
      "El numero 5 es impar\n",
      "El numero 6 es par\n",
      "El numero 7 es impar\n",
      "El numero 8 es par\n",
      "El numero 9 es impar\n",
      "El numero 10 es par\n",
      "El numero 11 es impar\n",
      "El numero 12 es par\n",
      "El numero 13 es impar\n",
      "El numero 14 es par\n",
      "El numero 15 es impar\n",
      "El numero 16 es par\n",
      "El numero 17 es impar\n",
      "El numero 18 es par\n",
      "El numero 19 es impar\n",
      "El numero 20 es par\n"
     ]
    }
   ],
   "source": [
    "#3\n",
    "for i in range(1,21):\n",
    "    if i % 2 == 0:\n",
    "        print(f\"El numero {i} es par\")\n",
    "    else:\n",
    "        print(f\"El numero {i} es impar\")"
   ]
  },
  {
   "cell_type": "code",
   "execution_count": 9,
   "metadata": {},
   "outputs": [
    {
     "name": "stdout",
     "output_type": "stream",
     "text": [
      "0 elevado a la 3ra potencia es igual a 0\n",
      "1 elevado a la 3ra potencia es igual a 1\n",
      "2 elevado a la 3ra potencia es igual a 8\n",
      "3 elevado a la 3ra potencia es igual a 27\n",
      "4 elevado a la 3ra potencia es igual a 64\n",
      "5 elevado a la 3ra potencia es igual a 125\n"
     ]
    }
   ],
   "source": [
    "#4\n",
    "for i in range(0,6):\n",
    "    print(f\"{i} elevado a la 3ra potencia es igual a {i**3}\")"
   ]
  },
  {
   "cell_type": "markdown",
   "metadata": {},
   "source": []
  },
  {
   "cell_type": "code",
   "execution_count": null,
   "metadata": {},
   "outputs": [],
   "source": []
  },
  {
   "cell_type": "code",
   "execution_count": 12,
   "metadata": {},
   "outputs": [
    {
     "name": "stdout",
     "output_type": "stream",
     "text": [
      "5\n",
      "5\n",
      "5\n",
      "5\n",
      "5\n"
     ]
    }
   ],
   "source": [
    "#5\n",
    "var = 5\n",
    "for i in range(0, var):\n",
    "    print(var)"
   ]
  },
  {
   "cell_type": "code",
   "execution_count": 14,
   "metadata": {},
   "outputs": [
    {
     "name": "stdout",
     "output_type": "stream",
     "text": [
      "120\n"
     ]
    }
   ],
   "source": [
    "#6\n",
    "num = 5\n",
    "\n",
    "if type(num) == int:\n",
    "    if num > 0:\n",
    "        fact = 1\n",
    "        while num >= 1:\n",
    "            fact = fact*num\n",
    "            num -= 1\n",
    "        print(fact)\n",
    "    else:\n",
    "        print(\"el numero es menor o igual a 0\")\n",
    "else:\n",
    "    print(\"el tipo de dato no es entero\")"
   ]
  },
  {
   "cell_type": "code",
   "execution_count": 18,
   "metadata": {},
   "outputs": [
    {
     "name": "stdout",
     "output_type": "stream",
     "text": [
      "1\n",
      "2\n",
      "3\n",
      "4\n",
      "5\n"
     ]
    }
   ],
   "source": [
    "#7\n",
    "numbers = [1,2,3,4,5]\n",
    "i = 0\n",
    "while i != len(numbers):\n",
    "    for j in numbers:\n",
    "        i += 1\n",
    "        print(i)\n"
   ]
  },
  {
   "cell_type": "code",
   "execution_count": 3,
   "metadata": {},
   "outputs": [
    {
     "name": "stdout",
     "output_type": "stream",
     "text": [
      "1\n",
      "2\n",
      "3\n",
      "4\n",
      "2\n",
      "3\n",
      "4\n",
      "3\n",
      "4\n",
      "4\n"
     ]
    }
   ],
   "source": [
    "#8\n",
    "numbers = [1,2,3,4,5]\n",
    "\n",
    "for i in numbers:\n",
    "    while i != len(numbers):\n",
    "        print(i)\n",
    "        i += 1"
   ]
  },
  {
   "cell_type": "code",
   "execution_count": 8,
   "metadata": {},
   "outputs": [
    {
     "name": "stdout",
     "output_type": "stream",
     "text": [
      "0\n",
      "1\n",
      "2\n",
      "3\n",
      "5\n",
      "7\n",
      "11\n",
      "13\n",
      "17\n",
      "19\n",
      "23\n",
      "29\n"
     ]
    }
   ],
   "source": [
    "#9\n",
    "k = 30\n",
    "n = 0\n",
    "prime = True\n",
    "\n",
    "while n < k:\n",
    "    for i in range(2, n):\n",
    "        if (n % i) == 0:\n",
    "            prime = False\n",
    "    if(prime):\n",
    "        print(n)\n",
    "    else:\n",
    "        prime = True\n",
    "    n += 1\n"
   ]
  },
  {
   "cell_type": "code",
   "execution_count": 10,
   "metadata": {},
   "outputs": [],
   "source": [
    "#10\n",
    "n = 0\n",
    "prime = True\n",
    "\n",
    "while n < k:\n",
    "    for i in range(2, n):\n",
    "        if (n % i) == 0:\n",
    "            prime = False\n",
    "    if(prime):\n",
    "        print(n)\n",
    "        break\n",
    "    else:\n",
    "        prime = True\n",
    "    n += 1\n",
    "\n"
   ]
  },
  {
   "cell_type": "code",
   "execution_count": null,
   "metadata": {},
   "outputs": [],
   "source": [
    "#11\n",
    "no_break = 0\n",
    "n = 0\n",
    "prime = True\n",
    "\n",
    "while n < k:\n",
    "    for i in range(2, n):\n",
    "        no_break += 1\n",
    "        if (n % i) == 0:\n",
    "            prime = False\n",
    "    if(prime):\n",
    "        print(n)\n",
    "    else:\n",
    "        prime = True\n",
    "    n += 1\n",
    "\n",
    "print(f\"Cantidad de ciclos: {no_break}\")\n",
    "\n",
    "\n",
    "\n"
   ]
  },
  {
   "cell_type": "code",
   "execution_count": null,
   "metadata": {},
   "outputs": [],
   "source": []
  },
  {
   "cell_type": "code",
   "execution_count": null,
   "metadata": {},
   "outputs": [],
   "source": [
    "break_on = 0\n",
    "n = 0\n",
    "prime = True\n",
    "\n",
    "while n < k:\n",
    "    for i in range(2, n):\n",
    "        break_on += 1\n",
    "        if (n % i) == 0:\n",
    "            prime = False\n",
    "            break\n",
    "    if(prime):\n",
    "        print(n)\n",
    "    else:\n",
    "        prime = True\n",
    "    n += 1\n",
    "print(f\"Cantidad de ciclos: {break_on}\")\n",
    "print(f\"Se optimizo a un {break_on/no_break} % de ciclos aplicando break\")\n"
   ]
  },
  {
   "cell_type": "code",
   "execution_count": null,
   "metadata": {},
   "outputs": [],
   "source": [
    "#12"
   ]
  },
  {
   "cell_type": "code",
   "execution_count": 14,
   "metadata": {},
   "outputs": [
    {
     "name": "stdout",
     "output_type": "stream",
     "text": [
      "108\n",
      "120\n",
      "132\n",
      "144\n",
      "156\n",
      "168\n",
      "180\n",
      "192\n",
      "204\n",
      "216\n",
      "228\n",
      "240\n",
      "252\n",
      "264\n",
      "276\n",
      "288\n"
     ]
    }
   ],
   "source": [
    "#13\n",
    "\n",
    "x = 100\n",
    "z = 300\n",
    "\n",
    "while x != z:\n",
    "    for i in range(x,z):\n",
    "        if i % 12 == 0:\n",
    "            print(i)\n",
    "            x += 1\n",
    "        else:\n",
    "            x += 1\n",
    "            continue"
   ]
  },
  {
   "cell_type": "code",
   "execution_count": null,
   "metadata": {},
   "outputs": [],
   "source": [
    "#14\n",
    "k = 30\n",
    "n = 0\n",
    "prime = True\n",
    "q = \"s\"\n",
    "\n",
    "while q == \"s\":\n",
    "    \n",
    "    for i in range(2, n):\n",
    "        if (n % i) == 0:\n",
    "            prime = False\n",
    "    if(prime):\n",
    "        print(n)\n",
    "        q = input(\"Presionar s para buscar el siguiente primo\")\n",
    "    else:\n",
    "        prime = True\n",
    "    n += 1\n"
   ]
  },
  {
   "cell_type": "code",
   "execution_count": 18,
   "metadata": {},
   "outputs": [
    {
     "name": "stdout",
     "output_type": "stream",
     "text": [
      "102\n"
     ]
    }
   ],
   "source": [
    "#15\n",
    "i = 100\n",
    "k = 300\n",
    "stop = False\n",
    "\n",
    "while stop == False:\n",
    "    for z in range(i,k):\n",
    "        if z % 3 == 0:\n",
    "            if z % 6 == 0:\n",
    "                print(z)\n",
    "                stop = True\n",
    "                break\n",
    "            else:\n",
    "                continue\n",
    "        else:\n",
    "            continue"
   ]
  }
 ],
 "metadata": {
  "interpreter": {
   "hash": "35ca4a963c16aca9b58beaeafd357f9a4de054dd363a8ae0a1932fd56bbeee66"
  },
  "kernelspec": {
   "display_name": "Python 3.10.2 64-bit",
   "language": "python",
   "name": "python3"
  },
  "language_info": {
   "codemirror_mode": {
    "name": "ipython",
    "version": 3
   },
   "file_extension": ".py",
   "mimetype": "text/x-python",
   "name": "python",
   "nbconvert_exporter": "python",
   "pygments_lexer": "ipython3",
   "version": "3.10.2"
  },
  "orig_nbformat": 4
 },
 "nbformat": 4,
 "nbformat_minor": 2
}
