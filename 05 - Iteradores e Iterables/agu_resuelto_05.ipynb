{
 "cells": [
  {
   "cell_type": "code",
   "execution_count": 3,
   "metadata": {},
   "outputs": [
    {
     "name": "stdout",
     "output_type": "stream",
     "text": [
      "[-1, -2, -3, -4, -5, -6, -7, -8, -9, -10, -11, -12, -13, -14, -15]\n"
     ]
    }
   ],
   "source": [
    "#1\n",
    "neg = []\n",
    "x = 1\n",
    "\n",
    "while len(neg) != 15:\n",
    "    neg.append(x*-1)\n",
    "    x += 1\n",
    "print(neg)"
   ]
  },
  {
   "cell_type": "code",
   "execution_count": 6,
   "metadata": {},
   "outputs": [
    {
     "name": "stdout",
     "output_type": "stream",
     "text": [
      "-2\n",
      "-4\n",
      "-6\n",
      "-8\n",
      "-10\n",
      "-12\n",
      "-14\n"
     ]
    }
   ],
   "source": [
    "#2\n",
    "x = 0\n",
    "while x <= 14:\n",
    "    if neg[x] % 2 == 0:\n",
    "        print(neg[x])\n",
    "    x += 1 "
   ]
  },
  {
   "cell_type": "code",
   "execution_count": 7,
   "metadata": {},
   "outputs": [
    {
     "name": "stdout",
     "output_type": "stream",
     "text": [
      "-2\n",
      "-4\n",
      "-6\n",
      "-8\n",
      "-10\n",
      "-12\n",
      "-14\n"
     ]
    }
   ],
   "source": [
    "#3\n",
    "for i in neg:\n",
    "    if i % 2 == 0:\n",
    "        print(i)"
   ]
  },
  {
   "cell_type": "code",
   "execution_count": 13,
   "metadata": {},
   "outputs": [
    {
     "name": "stdout",
     "output_type": "stream",
     "text": [
      "-1\n",
      "-2\n",
      "-3\n"
     ]
    }
   ],
   "source": [
    "#4\n",
    "iterable = [1,2,3]\n",
    "x = 0\n",
    "\n",
    "for i in iterable:\n",
    "    print(neg[x])\n",
    "    x += 1\n",
    "\n"
   ]
  },
  {
   "cell_type": "code",
   "execution_count": 17,
   "metadata": {},
   "outputs": [
    {
     "name": "stdout",
     "output_type": "stream",
     "text": [
      "[(0, 1), (1, 2), (2, 3)]\n"
     ]
    }
   ],
   "source": [
    "#5\n",
    "print(list(enumerate(iterable)))\n"
   ]
  },
  {
   "cell_type": "code",
   "execution_count": 19,
   "metadata": {},
   "outputs": [
    {
     "name": "stdout",
     "output_type": "stream",
     "text": [
      "[(1, -1), (2, -2), (3, -3), (4, -4), (5, -5), (6, -6), (7, -7), (8, -8), (9, -9), (10, -10), (11, -11), (12, -12), (13, -13), (14, -14), (15, -15)]\n"
     ]
    }
   ],
   "source": [
    "#or\n",
    "print(list(enumerate(neg, 1)))\n"
   ]
  },
  {
   "cell_type": "code",
   "execution_count": 24,
   "metadata": {},
   "outputs": [
    {
     "name": "stdout",
     "output_type": "stream",
     "text": [
      "(1, -1)\n",
      "(2, -2)\n",
      "(3, -3)\n",
      "(4, -4)\n",
      "(5, -5)\n",
      "(6, -6)\n",
      "(7, -7)\n",
      "(8, -8)\n",
      "(9, -9)\n",
      "(10, -10)\n",
      "(11, -11)\n",
      "(12, -12)\n",
      "(13, -13)\n",
      "(14, -14)\n",
      "(15, -15)\n"
     ]
    }
   ],
   "source": [
    "for i in list(enumerate(neg,1)):\n",
    "    print(i)"
   ]
  },
  {
   "cell_type": "code",
   "execution_count": 1,
   "metadata": {},
   "outputs": [
    {
     "name": "stdout",
     "output_type": "stream",
     "text": [
      "[1, 2, 5, 3, 4, 5, 6, 7, 8, 9, 10, 11, 7, 8, 10, 13, 14, 15, 17, 20]\n"
     ]
    }
   ],
   "source": [
    "#6\n",
    "lista = [1,2,5,7,8,10,13,14,15,17,20]\n",
    "\n",
    "for i in list(enumerate(lista, 1)):\n",
    "    if i[0] != i[1]:\n",
    "        lista.insert(i[0], i[0])\n",
    "\n",
    "print(lista)"
   ]
  },
  {
   "cell_type": "code",
   "execution_count": 3,
   "metadata": {},
   "outputs": [
    {
     "name": "stdout",
     "output_type": "stream",
     "text": [
      "0\n",
      "1\n",
      "1\n",
      "2\n",
      "3\n",
      "5\n",
      "8\n",
      "13\n",
      "21\n",
      "34\n"
     ]
    }
   ],
   "source": [
    "#7\n",
    "\n",
    "f = 1\n",
    "n = 0\n",
    "counter = 5\n",
    "\n",
    "while counter > 0:\n",
    "    print(n)\n",
    "    n = n+f\n",
    "    print(f)\n",
    "    f = f+n\n",
    "    counter -= 1\n"
   ]
  },
  {
   "cell_type": "code",
   "execution_count": 4,
   "metadata": {},
   "outputs": [
    {
     "name": "stdout",
     "output_type": "stream",
     "text": [
      "[0, 1, 1, 2, 3, 5, 8, 13, 21, 34, 55, 89, 144, 233, 377, 610, 987, 1597, 2584, 4181, 6765, 10946, 17711, 28657, 46368, 75025, 121393, 196418, 317811, 514229]\n"
     ]
    }
   ],
   "source": [
    "fibo = [0,1]\n",
    "n = 2\n",
    "while n < 30:\n",
    "    fibo.append(fibo[n-1] + fibo[n-2])\n",
    "    n += 1\n",
    "print(fibo)"
   ]
  },
  {
   "cell_type": "code",
   "execution_count": 6,
   "metadata": {},
   "outputs": [
    {
     "name": "stdout",
     "output_type": "stream",
     "text": [
      "1346268\n"
     ]
    }
   ],
   "source": [
    "#8\n",
    "x = 0\n",
    "for i in fibo:\n",
    "    x = i + x\n",
    "\n",
    "print(x)"
   ]
  },
  {
   "cell_type": "code",
   "execution_count": 7,
   "metadata": {},
   "outputs": [
    {
     "name": "stdout",
     "output_type": "stream",
     "text": [
      "1346268\n"
     ]
    }
   ],
   "source": [
    "#8'\n",
    "print(sum(fibo))"
   ]
  },
  {
   "cell_type": "code",
   "execution_count": 20,
   "metadata": {},
   "outputs": [
    {
     "name": "stdout",
     "output_type": "stream",
     "text": [
      "0.6180339985218034\n",
      "0.618033985017358\n",
      "0.6180339901755971\n",
      "0.6180339882053251\n",
      "0.618033988957902\n",
      "0.6180339886704432\n",
      "0.6180339887802427\n",
      "0.618033988738303\n",
      "0.6180339887543226\n"
     ]
    },
    {
     "ename": "IndexError",
     "evalue": "list index out of range",
     "output_type": "error",
     "traceback": [
      "\u001b[1;31m---------------------------------------------------------------------------\u001b[0m",
      "\u001b[1;31mIndexError\u001b[0m                                Traceback (most recent call last)",
      "\u001b[1;32mk:\\Python\\Mis programas\\Henry\\Python-Prep\\05 - Iteradores e Iterables\\agu_resuelto_05.ipynb Cell 13'\u001b[0m in \u001b[0;36m<cell line: 6>\u001b[1;34m()\u001b[0m\n\u001b[0;32m      <a href='vscode-notebook-cell:/k%3A/Python/Mis%20programas/Henry/Python-Prep/05%20-%20Iteradores%20e%20Iterables/agu_resuelto_05.ipynb#ch0000012?line=3'>4</a>\u001b[0m y \u001b[39m=\u001b[39m \u001b[39m1\u001b[39m\n\u001b[0;32m      <a href='vscode-notebook-cell:/k%3A/Python/Mis%20programas/Henry/Python-Prep/05%20-%20Iteradores%20e%20Iterables/agu_resuelto_05.ipynb#ch0000012?line=5'>6</a>\u001b[0m \u001b[39mfor\u001b[39;00m i \u001b[39min\u001b[39;00m f:\n\u001b[1;32m----> <a href='vscode-notebook-cell:/k%3A/Python/Mis%20programas/Henry/Python-Prep/05%20-%20Iteradores%20e%20Iterables/agu_resuelto_05.ipynb#ch0000012?line=6'>7</a>\u001b[0m     cos \u001b[39m=\u001b[39m f[x]\u001b[39m/\u001b[39mf[y]\n\u001b[0;32m      <a href='vscode-notebook-cell:/k%3A/Python/Mis%20programas/Henry/Python-Prep/05%20-%20Iteradores%20e%20Iterables/agu_resuelto_05.ipynb#ch0000012?line=7'>8</a>\u001b[0m     \u001b[39mprint\u001b[39m(cos)\n\u001b[0;32m      <a href='vscode-notebook-cell:/k%3A/Python/Mis%20programas/Henry/Python-Prep/05%20-%20Iteradores%20e%20Iterables/agu_resuelto_05.ipynb#ch0000012?line=8'>9</a>\u001b[0m     x \u001b[39m+\u001b[39m\u001b[39m=\u001b[39m \u001b[39m1\u001b[39m\n",
      "\u001b[1;31mIndexError\u001b[0m: list index out of range"
     ]
    }
   ],
   "source": [
    "#9\n",
    "f = fibo[-11:-1]\n",
    "x = 0\n",
    "y = 1\n",
    "\n",
    "for i in f:\n",
    "    cos = f[x]/f[y]\n",
    "    print(cos)\n",
    "    x += 1\n",
    "    y += 1"
   ]
  },
  {
   "cell_type": "code",
   "execution_count": null,
   "metadata": {},
   "outputs": [],
   "source": []
  },
  {
   "cell_type": "code",
   "execution_count": 19,
   "metadata": {},
   "outputs": [
    {
     "name": "stdout",
     "output_type": "stream",
     "text": [
      "1.6176470588235294\n",
      "1.6181818181818182\n",
      "1.6179775280898876\n",
      "1.6180555555555556\n",
      "1.6180257510729614\n"
     ]
    }
   ],
   "source": [
    "#9_2\n",
    "primeros = 15\n",
    "n = primeros - 5\n",
    "while n < primeros:\n",
    "    print(fibo[n]/fibo[n-1])\n",
    "    n += 1"
   ]
  },
  {
   "cell_type": "code",
   "execution_count": 32,
   "metadata": {},
   "outputs": [
    {
     "name": "stdout",
     "output_type": "stream",
     "text": [
      "(7, 'n')\n",
      "(21, 'n')\n",
      "(39, 'n')\n",
      "(60, 'n')\n",
      "(67, 'n')\n"
     ]
    }
   ],
   "source": [
    "#10\n",
    "cadena = \"Hola mundo. Esto es una practica del lenguaje de programacion Python\"\n",
    "lista = list(enumerate(cadena))\n",
    "\n",
    "for i in lista:\n",
    "    if i[1] == \"n\":\n",
    "        print(i)"
   ]
  },
  {
   "cell_type": "code",
   "execution_count": 34,
   "metadata": {},
   "outputs": [
    {
     "data": {
      "text/plain": [
       "5"
      ]
     },
     "execution_count": 34,
     "metadata": {},
     "output_type": "execute_result"
    }
   ],
   "source": [
    "lista = list(cadena)\n",
    "lista.count(\"n\")"
   ]
  },
  {
   "cell_type": "code",
   "execution_count": 23,
   "metadata": {},
   "outputs": [
    {
     "name": "stdout",
     "output_type": "stream",
     "text": [
      "Ciudad\n",
      "País\n",
      "Continente\n"
     ]
    }
   ],
   "source": [
    "#11\n",
    "dicc = {  'Ciudad': ['Buenos Aires','Caracas','Bogotá','Lisboa','Roma'], \n",
    "'País': ['Argentina','Venezuela','Colombia','Portugal','Italia'], \n",
    "'Continente' : ['América','América','América','Europa','Europa']}\n",
    "for i in dicc:\n",
    "    print(i)"
   ]
  },
  {
   "cell_type": "code",
   "execution_count": 26,
   "metadata": {},
   "outputs": [
    {
     "name": "stdout",
     "output_type": "stream",
     "text": [
      "H\n",
      "o\n",
      "l\n",
      "a\n",
      " \n",
      "m\n",
      "u\n",
      "n\n",
      "d\n",
      "o\n",
      ".\n",
      " \n",
      "E\n",
      "s\n",
      "t\n",
      "o\n",
      " \n",
      "e\n",
      "s\n",
      " \n",
      "u\n",
      "n\n",
      "a\n",
      " \n",
      "p\n",
      "r\n",
      "a\n",
      "c\n",
      "t\n",
      "i\n",
      "c\n",
      "a\n",
      " \n",
      "d\n",
      "e\n",
      "l\n",
      " \n",
      "l\n",
      "e\n",
      "n\n",
      "g\n",
      "u\n",
      "a\n",
      "j\n",
      "e\n",
      " \n",
      "d\n",
      "e\n",
      " \n",
      "p\n",
      "r\n",
      "o\n",
      "g\n",
      "r\n",
      "a\n",
      "m\n",
      "a\n",
      "c\n",
      "i\n",
      "o\n",
      "n\n",
      " \n",
      "P\n",
      "y\n",
      "t\n",
      "h\n",
      "o\n",
      "n\n"
     ]
    }
   ],
   "source": [
    "#12\n",
    "lista = list(cadena)\n",
    "#print(lista)\n",
    "\n",
    "for i in lista:\n",
    "    print(i)"
   ]
  },
  {
   "cell_type": "code",
   "execution_count": 29,
   "metadata": {},
   "outputs": [
    {
     "name": "stdout",
     "output_type": "stream",
     "text": [
      "(('a', 1), ('b', 2), ('c', 3), ('d', 4), ('e', 5))\n"
     ]
    }
   ],
   "source": [
    "#13\n",
    "lista1 = ['a','b','c','d','e']\n",
    "lista2 = [1,2,3,4,5,]\n",
    "\n",
    "tup = tuple(zip(lista1,lista2))\n",
    "print(tup)\n"
   ]
  },
  {
   "cell_type": "code",
   "execution_count": 45,
   "metadata": {},
   "outputs": [
    {
     "name": "stdout",
     "output_type": "stream",
     "text": [
      "[21, 35, 42, 56, 63, 84, 91]\n"
     ]
    }
   ],
   "source": [
    "#14\n",
    "lis = [18,21,29,32,35,42,56,60,63,71,84,90,91,100]\n",
    "new_list = []\n",
    "\n",
    "for i in lis:\n",
    "    if i % 7 == 0:\n",
    "        new_list.append(i)\n",
    "\n",
    "print(new_list)\n"
   ]
  },
  {
   "cell_type": "code",
   "execution_count": null,
   "metadata": {},
   "outputs": [],
   "source": [
    "#interesante\n",
    "lis = [18,21,29,32,35,42,56,60,63,71,84,90,91,100]\n",
    "lis2 = [i for i in lis if i % 7 == 0]\n",
    "print(lis2)"
   ]
  },
  {
   "cell_type": "code",
   "execution_count": 37,
   "metadata": {},
   "outputs": [
    {
     "name": "stdout",
     "output_type": "stream",
     "text": [
      "5\n"
     ]
    }
   ],
   "source": [
    "#15\n",
    "lis = [[1,2,3,4],'rojo','verde',[True,False,False],['uno','dos','tres']]\n",
    "x = 0\n",
    "\n",
    "for i in lis:\n",
    "    x += 1\n",
    "\n",
    "print(x)\n"
   ]
  },
  {
   "cell_type": "code",
   "execution_count": 48,
   "metadata": {},
   "outputs": [
    {
     "name": "stdout",
     "output_type": "stream",
     "text": [
      "14\n"
     ]
    }
   ],
   "source": [
    "#15 elemenots denro\n",
    "x = 0\n",
    "for j in lis:\n",
    "    if type(j) == list:\n",
    "        for i in j:\n",
    "            x += 1\n",
    "    else:\n",
    "        x += 1\n",
    "\n",
    "print(x)\n"
   ]
  },
  {
   "cell_type": "code",
   "execution_count": 53,
   "metadata": {},
   "outputs": [
    {
     "ename": "SyntaxError",
     "evalue": "unmatched ')' (2470441991.py, line 2)",
     "output_type": "error",
     "traceback": [
      "\u001b[1;36m  Input \u001b[1;32mIn [53]\u001b[1;36m\u001b[0m\n\u001b[1;33m    for i in lis):\u001b[0m\n\u001b[1;37m                ^\u001b[0m\n\u001b[1;31mSyntaxError\u001b[0m\u001b[1;31m:\u001b[0m unmatched ')'\n"
     ]
    }
   ],
   "source": [
    "#16\n",
    "for i in lis:\n",
    "    if type(i) != list:\n",
    "        x = list(i)\n",
    "        print(x)"
   ]
  },
  {
   "cell_type": "code",
   "execution_count": 54,
   "metadata": {},
   "outputs": [
    {
     "name": "stdout",
     "output_type": "stream",
     "text": [
      "[[18], [21], [29], [32], [35], [42], [56], [60], [63], [71], [84], [90], [91], [100]]\n"
     ]
    }
   ],
   "source": [
    "\n",
    "#resolver esta cosa\n",
    "for indice, elemento in enumerate(lis):\n",
    "    if (type(elemento) != list):\n",
    "        lis[indice]=[elemento]\n",
    "print(lis)"
   ]
  },
  {
   "cell_type": "code",
   "execution_count": null,
   "metadata": {},
   "outputs": [],
   "source": []
  }
 ],
 "metadata": {
  "interpreter": {
   "hash": "35ca4a963c16aca9b58beaeafd357f9a4de054dd363a8ae0a1932fd56bbeee66"
  },
  "kernelspec": {
   "display_name": "Python 3.10.2 64-bit",
   "language": "python",
   "name": "python3"
  },
  "language_info": {
   "codemirror_mode": {
    "name": "ipython",
    "version": 3
   },
   "file_extension": ".py",
   "mimetype": "text/x-python",
   "name": "python",
   "nbconvert_exporter": "python",
   "pygments_lexer": "ipython3",
   "version": "3.10.2"
  },
  "orig_nbformat": 4
 },
 "nbformat": 4,
 "nbformat_minor": 2
}
